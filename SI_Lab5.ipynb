# Zadanie 1:
# Wyjaśnij w kilku zdaniach jaka cecha została wywnioskowana przez PCA i co ona intuicyjnie mogłaby oznaczać
# Z danych odnośnie szerokości i długości kielicha oraz płatka kwiatu została wywnioskowana cecha pola powierzchni.
# A dokładniej mówiąc stosunek pola kielicha do płatka.
